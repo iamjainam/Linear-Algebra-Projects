{
  "nbformat": 4,
  "nbformat_minor": 0,
  "metadata": {
    "colab": {
      "provenance": [],
      "include_colab_link": true
    },
    "kernelspec": {
      "name": "ir",
      "display_name": "R"
    },
    "language_info": {
      "name": "R"
    }
  },
  "cells": [
    {
      "cell_type": "markdown",
      "metadata": {
        "id": "view-in-github",
        "colab_type": "text"
      },
      "source": [
        "<a href=\"https://colab.research.google.com/github/jainam-shah1/Linear-Algebra-Projects/blob/main/Principal_Component_Analysis.ipynb\" target=\"_parent\"><img src=\"https://colab.research.google.com/assets/colab-badge.svg\" alt=\"Open In Colab\"/></a>"
      ]
    },
    {
      "cell_type": "markdown",
      "source": [
        "# Principal Component Analysis\n",
        "> Jainam Shah"
      ],
      "metadata": {
        "id": "sAyLs3TMClTS"
      }
    },
    {
      "cell_type": "markdown",
      "source": [
        "> Imported the inbuilt dataset as required."
      ],
      "metadata": {
        "id": "vGvD6RfNCr9y"
      }
    },
    {
      "cell_type": "code",
      "source": [
        "attach(longley)"
      ],
      "metadata": {
        "id": "fpkJZHulCv9c"
      },
      "execution_count": null,
      "outputs": []
    },
    {
      "cell_type": "markdown",
      "source": [
        "#### Dataset preview"
      ],
      "metadata": {
        "id": "jZEGUAz4CykI"
      }
    },
    {
      "cell_type": "code",
      "source": [
        "head(longley, 3)"
      ],
      "metadata": {
        "colab": {
          "base_uri": "https://localhost:8080/",
          "height": 192
        },
        "id": "6MVR1SMTC0Vl",
        "outputId": "7838a1a5-0543-4049-982a-6a7604b830a3"
      },
      "execution_count": null,
      "outputs": [
        {
          "output_type": "display_data",
          "data": {
            "text/html": [
              "<table class=\"dataframe\">\n",
              "<caption>A data.frame: 3 × 7</caption>\n",
              "<thead>\n",
              "\t<tr><th></th><th scope=col>GNP.deflator</th><th scope=col>GNP</th><th scope=col>Unemployed</th><th scope=col>Armed.Forces</th><th scope=col>Population</th><th scope=col>Year</th><th scope=col>Employed</th></tr>\n",
              "\t<tr><th></th><th scope=col>&lt;dbl&gt;</th><th scope=col>&lt;dbl&gt;</th><th scope=col>&lt;dbl&gt;</th><th scope=col>&lt;dbl&gt;</th><th scope=col>&lt;dbl&gt;</th><th scope=col>&lt;int&gt;</th><th scope=col>&lt;dbl&gt;</th></tr>\n",
              "</thead>\n",
              "<tbody>\n",
              "\t<tr><th scope=row>1947</th><td>83.0</td><td>234.289</td><td>235.6</td><td>159.0</td><td>107.608</td><td>1947</td><td>60.323</td></tr>\n",
              "\t<tr><th scope=row>1948</th><td>88.5</td><td>259.426</td><td>232.5</td><td>145.6</td><td>108.632</td><td>1948</td><td>61.122</td></tr>\n",
              "\t<tr><th scope=row>1949</th><td>88.2</td><td>258.054</td><td>368.2</td><td>161.6</td><td>109.773</td><td>1949</td><td>60.171</td></tr>\n",
              "</tbody>\n",
              "</table>\n"
            ],
            "text/markdown": "\nA data.frame: 3 × 7\n\n| <!--/--> | GNP.deflator &lt;dbl&gt; | GNP &lt;dbl&gt; | Unemployed &lt;dbl&gt; | Armed.Forces &lt;dbl&gt; | Population &lt;dbl&gt; | Year &lt;int&gt; | Employed &lt;dbl&gt; |\n|---|---|---|---|---|---|---|---|\n| 1947 | 83.0 | 234.289 | 235.6 | 159.0 | 107.608 | 1947 | 60.323 |\n| 1948 | 88.5 | 259.426 | 232.5 | 145.6 | 108.632 | 1948 | 61.122 |\n| 1949 | 88.2 | 258.054 | 368.2 | 161.6 | 109.773 | 1949 | 60.171 |\n\n",
            "text/latex": "A data.frame: 3 × 7\n\\begin{tabular}{r|lllllll}\n  & GNP.deflator & GNP & Unemployed & Armed.Forces & Population & Year & Employed\\\\\n  & <dbl> & <dbl> & <dbl> & <dbl> & <dbl> & <int> & <dbl>\\\\\n\\hline\n\t1947 & 83.0 & 234.289 & 235.6 & 159.0 & 107.608 & 1947 & 60.323\\\\\n\t1948 & 88.5 & 259.426 & 232.5 & 145.6 & 108.632 & 1948 & 61.122\\\\\n\t1949 & 88.2 & 258.054 & 368.2 & 161.6 & 109.773 & 1949 & 60.171\\\\\n\\end{tabular}\n",
            "text/plain": [
              "     GNP.deflator GNP     Unemployed Armed.Forces Population Year Employed\n",
              "1947 83.0         234.289 235.6      159.0        107.608    1947 60.323  \n",
              "1948 88.5         259.426 232.5      145.6        108.632    1948 61.122  \n",
              "1949 88.2         258.054 368.2      161.6        109.773    1949 60.171  "
            ]
          },
          "metadata": {}
        }
      ]
    },
    {
      "cell_type": "markdown",
      "source": [
        "> Seven economic variables"
      ],
      "metadata": {
        "id": "PwFYsTkbC58s"
      }
    },
    {
      "cell_type": "code",
      "source": [
        "summary(longley)"
      ],
      "metadata": {
        "colab": {
          "base_uri": "https://localhost:8080/",
          "height": 267
        },
        "id": "XahMjuC5C16N",
        "outputId": "3bccfdc2-202e-41d9-d849-af47e598e5b2"
      },
      "execution_count": null,
      "outputs": [
        {
          "output_type": "display_data",
          "data": {
            "text/plain": [
              "  GNP.deflator         GNP          Unemployed     Armed.Forces  \n",
              " Min.   : 83.00   Min.   :234.3   Min.   :187.0   Min.   :145.6  \n",
              " 1st Qu.: 94.53   1st Qu.:317.9   1st Qu.:234.8   1st Qu.:229.8  \n",
              " Median :100.60   Median :381.4   Median :314.4   Median :271.8  \n",
              " Mean   :101.68   Mean   :387.7   Mean   :319.3   Mean   :260.7  \n",
              " 3rd Qu.:111.25   3rd Qu.:454.1   3rd Qu.:384.2   3rd Qu.:306.1  \n",
              " Max.   :116.90   Max.   :554.9   Max.   :480.6   Max.   :359.4  \n",
              "   Population         Year         Employed    \n",
              " Min.   :107.6   Min.   :1947   Min.   :60.17  \n",
              " 1st Qu.:111.8   1st Qu.:1951   1st Qu.:62.71  \n",
              " Median :116.8   Median :1954   Median :65.50  \n",
              " Mean   :117.4   Mean   :1954   Mean   :65.32  \n",
              " 3rd Qu.:122.3   3rd Qu.:1958   3rd Qu.:68.29  \n",
              " Max.   :130.1   Max.   :1962   Max.   :70.55  "
            ]
          },
          "metadata": {}
        }
      ]
    },
    {
      "cell_type": "markdown",
      "source": [
        "# Write a function in R called myPCA with the following properties:"
      ],
      "metadata": {
        "id": "BIRkcmJyC3nW"
      }
    },
    {
      "cell_type": "markdown",
      "source": [
        "#### 1. The function must have 2 inputs:\n",
        "\n",
        "* a data frame that contains the data set\n",
        "\n",
        "* a scaler that denotes the desired percentage of variance preserved in the transformed data set"
      ],
      "metadata": {
        "id": "hNeYtC_zC87b"
      }
    },
    {
      "cell_type": "markdown",
      "source": [
        "#### Using the provided data performed the task and obtained the same expected results by\n",
        "* Calculating eigen of the matrix to get covarience\n",
        "* Extracting the features\n",
        "* Get the Principal Component Matrix from the eigen function\n",
        "* Calculate PCA score\n",
        "* Generate tranformed matrix\n",
        "* Cumulative sum upto the retention variance percetage\n",
        "* Choosing important PCAs\n",
        "* Ouput the list of required results"
      ],
      "metadata": {
        "id": "3Kw5-qKrG0_C"
      }
    },
    {
      "cell_type": "code",
      "source": [
        "# function declaration\n",
        "myPCA <- function (dataframe, perc_var){\n",
        "  # head(dataframe);\n",
        "\n",
        "  # Compute variance of each variable & Create new data frame with centered variables\n",
        "  scaled_df <- apply(dataframe, 2, scale)\n",
        "\n",
        "  # Calculate Eigenvalues & Eigenvectors\n",
        "  dataframe.cov <- cov(scaled_df)\n",
        "  dataframe.eigen <- eigen(dataframe.cov)\n",
        "  str(dataframe.eigen)\n",
        "\n",
        "  # Extract the loadings\n",
        "  (phi <- dataframe.eigen$vectors)\n",
        "\n",
        "  # Principal_components_matrix\n",
        "  phi <- -phi\n",
        "  row.names(phi) <- c(\"GNP.deflator\",\"GNP\",\"Unemployed\",\"Armed.Froces\",\"Population\")\n",
        "  colnames(phi) <- c(\"PC1\",\"PC2\",\"PC3\",\"PC4\",\"PC5\")\n",
        "  print(phi)\n",
        "\n",
        "\n",
        "  # Calculate Principal Components scores\n",
        "  PC1 <- as.matrix(scaled_df) %*% phi[,1]\n",
        "  PC2 <- as.matrix(scaled_df) %*% phi[,2]\n",
        "  PC3 <- as.matrix(scaled_df) %*% phi[,3]\n",
        "  PC4 <- as.matrix(scaled_df) %*% phi[,4]\n",
        "  PC5 <- as.matrix(scaled_df) %*% phi[,5]\n",
        "\n",
        "\n",
        "  # Create data frame with Principal Components scores \"Transformed_data_matrix\"\n",
        "  PC <- data.frame(Year = row.names(dataframe), PC1, PC2, PC3, PC4, PC5)\n",
        "\n",
        "  PVE <- dataframe.eigen$values / sum(dataframe.eigen$values)\n",
        "  # round(PVE, 2)\n",
        "\n",
        "  # Cumulative sum upto the retention variance percetage\n",
        "  num_PC = which(cumsum(PVE) >= perc_var)[1]\n",
        "\n",
        "  # Choosing important PCAs\n",
        "  final_PC = phi[,seq(1, num_PC, by=1)]\n",
        "  # print(final_PC)\n",
        "\n",
        "  print('------------------------------------------------------------------------------------------------------------------------')\n",
        "  print('-----------------------------------------------        OUTPUT        -------------------------------------------------')\n",
        "  print('------------------------------------------------------------------------------------------------------------------------')\n",
        "  output = list(\"minimum_number\" = num_PC, \"principal_components_matrix\" = final_PC, \"transformed_data_matrix\" = head(PC, n = 5))\n",
        "  print(output)\n",
        "}\n",
        "\n",
        "d = longley[, -c(6,7)]\n",
        "\n",
        "# function calling\n",
        "myPCA(d, 0.98);"
      ],
      "metadata": {
        "colab": {
          "base_uri": "https://localhost:8080/"
        },
        "id": "MT2gFW_nGyNT",
        "outputId": "3605a6cb-a9e5-4466-cb2b-83e6a137c399"
      },
      "execution_count": null,
      "outputs": [
        {
          "output_type": "stream",
          "name": "stdout",
          "text": [
            "List of 2\n",
            " $ values : num [1:5] 3.609669 1.17534 0.199155 0.014882 0.000953\n",
            " $ vectors: num [1:5, 1:5] -0.521 -0.52 -0.366 -0.23 -0.521 ...\n",
            " - attr(*, \"class\")= chr \"eigen\"\n",
            "                   PC1         PC2        PC3          PC4          PC5\n",
            "GNP.deflator 0.5210129 -0.05808997 -0.1889153  0.776958379 -0.292946852\n",
            "GNP          0.5199086 -0.05345522 -0.3174971 -0.135947010  0.779455948\n",
            "Unemployed   0.3658062  0.59532321  0.7100763  0.004614581  0.086870665\n",
            "Armed.Froces 0.2296424 -0.79831473  0.5511572 -0.078584283  0.002874243\n",
            "Population   0.5212397  0.04529867 -0.2356355 -0.609637027 -0.546878225\n",
            "[1] \"------------------------------------------------------------------------------------------------------------------------\"\n",
            "[1] \"-----------------------------------------------        OUTPUT        -------------------------------------------------\"\n",
            "[1] \"------------------------------------------------------------------------------------------------------------------------\"\n",
            "$minimum_number\n",
            "[1] 3\n",
            "\n",
            "$principal_components_matrix\n",
            "                   PC1         PC2        PC3\n",
            "GNP.deflator 0.5210129 -0.05808997 -0.1889153\n",
            "GNP          0.5199086 -0.05345522 -0.3174971\n",
            "Unemployed   0.3658062  0.59532321  0.7100763\n",
            "Armed.Froces 0.2296424 -0.79831473  0.5511572\n",
            "Population   0.5212397  0.04529867 -0.2356355\n",
            "\n",
            "$transformed_data_matrix\n",
            "  Year       PC1        PC2         PC3          PC4          PC5\n",
            "1 1947 -3.103175  0.7519905 -0.29187307 -0.164215614 -0.006237107\n",
            "2 1948 -2.685773  0.8495010 -0.63281993  0.122620708 -0.042355835\n",
            "3 1949 -2.037926  1.5402521  0.49603161 -0.008466046 -0.007863283\n",
            "4 1950 -1.868044  1.2766319  0.12473100 -0.057963320  0.043499782\n",
            "5 1951 -1.238540 -1.2356542  0.02309218  0.093478781  0.009116973\n",
            "\n"
          ]
        }
      ]
    },
    {
      "cell_type": "markdown",
      "source": [
        "> #### Above result shows\n",
        "* The minimum number of principal components that is necessary to retain the desired variance specified by the user 2.\n",
        "* The principal components corresponding to previous part, in a matrix\n",
        "* The transformed data set in a matrix"
      ],
      "metadata": {
        "id": "-8YKALgiRAVm"
      }
    },
    {
      "cell_type": "markdown",
      "source": [
        "#### Using the prcomp inbuild function performed the task and observed the same results below."
      ],
      "metadata": {
        "id": "7qxixTW6RPqA"
      }
    },
    {
      "cell_type": "code",
      "source": [
        "# function declaration\n",
        "myPCA <- function (dataframe, perc_var){\n",
        "  # Computing principle component analysis (scale and center and logical value )\n",
        "  dPCA = prcomp(dataframe, scale = TRUE, center = TRUE, ); dPCA\n",
        "\n",
        "  print(attributes(dPCA))\n",
        "  # Standard deviations in each principal component\n",
        "  # Sqrtof Eigenvalues of correlation matrix\n",
        "  # print(dPCA$sdev)\n",
        "  # print(dPCA$rotation)\n",
        "\n",
        "  # Variance\n",
        "  dPCA.var = dPCA$sdev ^ 2\n",
        "\n",
        "  # proportion variance\n",
        "  PVE = dPCA.var / sum(dPCA.var)\n",
        "\n",
        "  # Cumulative sum upto the retention variance percetage\n",
        "  num_dPCA = which(cumsum(PVE) >= perc_var)[1]\n",
        "\n",
        "  # Choosing important PCAs\n",
        "  final_dPCA = dPCA$rotation[,seq(1, num_dPCA, by=1)]\n",
        "\n",
        "  output = list(\"minimum_number\" = num_dPCA, \"principal_components_matrix\" = final_dPCA, \"transformed_data_matrix\" = dPCA$x)\n",
        "  print(\"------------------------------------------\")\n",
        "  print(output)\n",
        "}"
      ],
      "metadata": {
        "id": "gBR21KLxDABr"
      },
      "execution_count": null,
      "outputs": []
    },
    {
      "cell_type": "markdown",
      "source": [
        "\n",
        "2. The function must have 3 outputs returned in a list, called number, PCA, and transformed:\n",
        "\n",
        "* the minimum number of principal components that is necessary to retain the desired variance\n",
        "specified by the user\n",
        "* the principal components corresponding to previous part, in a matrix\n",
        "* the transformed data set in a matrix\n"
      ],
      "metadata": {
        "id": "Bjg6MaSjDHxK"
      }
    },
    {
      "cell_type": "code",
      "source": [
        "d = longley[, -c(6,7)]\n",
        "\n",
        "# function calling\n",
        "myPCA(d, 0.98);"
      ],
      "metadata": {
        "colab": {
          "base_uri": "https://localhost:8080/"
        },
        "id": "QloiWDkIDWlH",
        "outputId": "0853683a-e0fb-455f-fe31-9c9c44131437"
      },
      "execution_count": null,
      "outputs": [
        {
          "output_type": "stream",
          "name": "stdout",
          "text": [
            "List of 2\n",
            " $ values : num [1:5] 3.609669 1.17534 0.199155 0.014882 0.000953\n",
            " $ vectors: num [1:5, 1:5] -0.521 -0.52 -0.366 -0.23 -0.521 ...\n",
            " - attr(*, \"class\")= chr \"eigen\"\n",
            "                   PC1         PC2        PC3          PC4          PC5\n",
            "GNP.deflator 0.5210129 -0.05808997 -0.1889153  0.776958379 -0.292946852\n",
            "GNP          0.5199086 -0.05345522 -0.3174971 -0.135947010  0.779455948\n",
            "Unemployed   0.3658062  0.59532321  0.7100763  0.004614581  0.086870665\n",
            "Armed.Froces 0.2296424 -0.79831473  0.5511572 -0.078584283  0.002874243\n",
            "Population   0.5212397  0.04529867 -0.2356355 -0.609637027 -0.546878225\n",
            "[1] \"------------------------------------------------------------------------------------------------------------------------\"\n",
            "[1] \"-----------------------------------------------        OUTPUT        -------------------------------------------------\"\n",
            "[1] \"------------------------------------------------------------------------------------------------------------------------\"\n",
            "$minimum_number\n",
            "[1] 3\n",
            "\n",
            "$principal_components_matrix\n",
            "                   PC1         PC2        PC3\n",
            "GNP.deflator 0.5210129 -0.05808997 -0.1889153\n",
            "GNP          0.5199086 -0.05345522 -0.3174971\n",
            "Unemployed   0.3658062  0.59532321  0.7100763\n",
            "Armed.Froces 0.2296424 -0.79831473  0.5511572\n",
            "Population   0.5212397  0.04529867 -0.2356355\n",
            "\n",
            "$transformed_data_matrix\n",
            "  Year       PC1        PC2         PC3          PC4          PC5\n",
            "1 1947 -3.103175  0.7519905 -0.29187307 -0.164215614 -0.006237107\n",
            "2 1948 -2.685773  0.8495010 -0.63281993  0.122620708 -0.042355835\n",
            "3 1949 -2.037926  1.5402521  0.49603161 -0.008466046 -0.007863283\n",
            "4 1950 -1.868044  1.2766319  0.12473100 -0.057963320  0.043499782\n",
            "5 1951 -1.238540 -1.2356542  0.02309218  0.093478781  0.009116973\n",
            "\n"
          ]
        }
      ]
    },
    {
      "cell_type": "markdown",
      "source": [
        "Run your function on the first 5 features of R longley data set with the desired retained variance of 0.98."
      ],
      "metadata": {
        "id": "ehOQQ6rIDZA7"
      }
    },
    {
      "cell_type": "code",
      "source": [
        "d = longley[, -c(6,7)]\n",
        "\n",
        "# function calling\n",
        "myPCA(head(d, n = 5), 0.98);"
      ],
      "metadata": {
        "colab": {
          "base_uri": "https://localhost:8080/"
        },
        "id": "0M-robA-DgzH",
        "outputId": "81de5a73-b315-4b47-dd6f-5feca1f4a13b"
      },
      "execution_count": null,
      "outputs": [
        {
          "output_type": "stream",
          "name": "stdout",
          "text": [
            "List of 2\n",
            " $ values : num [1:5] 3.71 1.13 1.23e-01 3.81e-02 3.07e-16\n",
            " $ vectors: num [1:5, 1:5] -0.505 -0.515 0.14 -0.48 -0.478 ...\n",
            " - attr(*, \"class\")= chr \"eigen\"\n",
            "                    PC1         PC2         PC3        PC4         PC5\n",
            "GNP.deflator  0.5053955  0.07883559 -0.46003989 -0.7161816 -0.11750569\n",
            "GNP           0.5154473  0.05670439 -0.20753725  0.3825379  0.73599716\n",
            "Unemployed   -0.1402573  0.90035139  0.27686893 -0.2134636  0.21788109\n",
            "Armed.Froces  0.4799842 -0.23365314  0.81718283 -0.2159454  0.02451884\n",
            "Population    0.4783645  0.35403833 -0.02911041  0.4985475 -0.62962470\n",
            "[1] \"------------------------------------------------------------------------------------------------------------------------\"\n",
            "[1] \"-----------------------------------------------        OUTPUT        -------------------------------------------------\"\n",
            "[1] \"------------------------------------------------------------------------------------------------------------------------\"\n",
            "$minimum_number\n",
            "[1] 3\n",
            "\n",
            "$principal_components_matrix\n",
            "                    PC1         PC2         PC3\n",
            "GNP.deflator  0.5053955  0.07883559 -0.46003989\n",
            "GNP           0.5154473  0.05670439 -0.20753725\n",
            "Unemployed   -0.1402573  0.90035139  0.27686893\n",
            "Armed.Froces  0.4799842 -0.23365314  0.81718283\n",
            "Population    0.4783645  0.35403833 -0.02911041\n",
            "\n",
            "$transformed_data_matrix\n",
            "  Year        PC1        PC2        PC3         PC4           PC5\n",
            "1 1947 -1.9227755 -1.0197744  0.3442451  0.11004355 -3.330669e-15\n",
            "2 1948 -0.7851142 -0.6779115 -0.5263755 -0.11880685 -7.771561e-16\n",
            "3 1949 -0.6873256  1.2204507  0.2160567 -0.22890401  2.393918e-16\n",
            "4 1950  0.2334647  1.0801837 -0.1722539  0.26994093 -5.218048e-15\n",
            "5 1951  3.1617506 -0.6029485  0.1383277 -0.03227363 -2.331468e-15\n",
            "\n"
          ]
        }
      ]
    },
    {
      "cell_type": "markdown",
      "source": [
        "> #### Above result shows\n",
        "* The minimum number of principal components that is necessary to retain the desired variance specified by the user 2.\n",
        "* the principal components corresponding to previous part, in a matrix\n",
        "* the transformed data set in a matrix\n"
      ],
      "metadata": {
        "id": "UQAvy8k4JCSX"
      }
    },
    {
      "cell_type": "code",
      "source": [
        "library(stats)\n",
        "dPCA = prcomp(d, scale = TRUE)"
      ],
      "metadata": {
        "id": "fwlPWpBwDtLt"
      },
      "execution_count": null,
      "outputs": []
    },
    {
      "cell_type": "code",
      "source": [
        "dPCA"
      ],
      "metadata": {
        "colab": {
          "base_uri": "https://localhost:8080/",
          "height": 196
        },
        "id": "bRxKZt8NKfPU",
        "outputId": "3f120147-8c9d-4845-b888-216666d2e26e"
      },
      "execution_count": null,
      "outputs": [
        {
          "output_type": "display_data",
          "data": {
            "text/plain": [
              "Standard deviations (1, .., p=5):\n",
              "[1] 1.89991292 1.08413093 0.44626826 0.12199281 0.03087773\n",
              "\n",
              "Rotation (n x k) = (5 x 5):\n",
              "                   PC1         PC2        PC3          PC4          PC5\n",
              "GNP.deflator 0.5210129 -0.05808997  0.1889153  0.776958379  0.292946852\n",
              "GNP          0.5199086 -0.05345522  0.3174971 -0.135947010 -0.779455948\n",
              "Unemployed   0.3658062  0.59532321 -0.7100763  0.004614581 -0.086870665\n",
              "Armed.Forces 0.2296424 -0.79831473 -0.5511572 -0.078584283 -0.002874243\n",
              "Population   0.5212397  0.04529867  0.2356355 -0.609637027  0.546878225"
            ]
          },
          "metadata": {}
        }
      ]
    },
    {
      "cell_type": "code",
      "source": [
        "predict(dPCA, newdata = head(longley[, -c(6,7)]))"
      ],
      "metadata": {
        "colab": {
          "base_uri": "https://localhost:8080/",
          "height": 255
        },
        "id": "Mcro1PisFi_I",
        "outputId": "04a27c32-c242-4a4a-972c-ec31963c5371"
      },
      "execution_count": null,
      "outputs": [
        {
          "output_type": "display_data",
          "data": {
            "text/html": [
              "<table class=\"dataframe\">\n",
              "<caption>A matrix: 6 × 5 of type dbl</caption>\n",
              "<thead>\n",
              "\t<tr><th></th><th scope=col>PC1</th><th scope=col>PC2</th><th scope=col>PC3</th><th scope=col>PC4</th><th scope=col>PC5</th></tr>\n",
              "</thead>\n",
              "<tbody>\n",
              "\t<tr><th scope=row>1947</th><td>-3.1031746</td><td> 0.7519905</td><td> 0.29187307</td><td>-0.164215614</td><td> 0.006237107</td></tr>\n",
              "\t<tr><th scope=row>1948</th><td>-2.6857734</td><td> 0.8495010</td><td> 0.63281993</td><td> 0.122620708</td><td> 0.042355835</td></tr>\n",
              "\t<tr><th scope=row>1949</th><td>-2.0379258</td><td> 1.5402521</td><td>-0.49603161</td><td>-0.008466046</td><td> 0.007863283</td></tr>\n",
              "\t<tr><th scope=row>1950</th><td>-1.8680442</td><td> 1.2766319</td><td>-0.12473100</td><td>-0.057963320</td><td>-0.043499782</td></tr>\n",
              "\t<tr><th scope=row>1951</th><td>-1.2385402</td><td>-1.2356542</td><td>-0.02309218</td><td> 0.093478781</td><td>-0.009116973</td></tr>\n",
              "\t<tr><th scope=row>1952</th><td>-0.8650172</td><td>-1.9220172</td><td>-0.15690972</td><td> 0.044169280</td><td> 0.008545465</td></tr>\n",
              "</tbody>\n",
              "</table>\n"
            ],
            "text/markdown": "\nA matrix: 6 × 5 of type dbl\n\n| <!--/--> | PC1 | PC2 | PC3 | PC4 | PC5 |\n|---|---|---|---|---|---|\n| 1947 | -3.1031746 |  0.7519905 |  0.29187307 | -0.164215614 |  0.006237107 |\n| 1948 | -2.6857734 |  0.8495010 |  0.63281993 |  0.122620708 |  0.042355835 |\n| 1949 | -2.0379258 |  1.5402521 | -0.49603161 | -0.008466046 |  0.007863283 |\n| 1950 | -1.8680442 |  1.2766319 | -0.12473100 | -0.057963320 | -0.043499782 |\n| 1951 | -1.2385402 | -1.2356542 | -0.02309218 |  0.093478781 | -0.009116973 |\n| 1952 | -0.8650172 | -1.9220172 | -0.15690972 |  0.044169280 |  0.008545465 |\n\n",
            "text/latex": "A matrix: 6 × 5 of type dbl\n\\begin{tabular}{r|lllll}\n  & PC1 & PC2 & PC3 & PC4 & PC5\\\\\n\\hline\n\t1947 & -3.1031746 &  0.7519905 &  0.29187307 & -0.164215614 &  0.006237107\\\\\n\t1948 & -2.6857734 &  0.8495010 &  0.63281993 &  0.122620708 &  0.042355835\\\\\n\t1949 & -2.0379258 &  1.5402521 & -0.49603161 & -0.008466046 &  0.007863283\\\\\n\t1950 & -1.8680442 &  1.2766319 & -0.12473100 & -0.057963320 & -0.043499782\\\\\n\t1951 & -1.2385402 & -1.2356542 & -0.02309218 &  0.093478781 & -0.009116973\\\\\n\t1952 & -0.8650172 & -1.9220172 & -0.15690972 &  0.044169280 &  0.008545465\\\\\n\\end{tabular}\n",
            "text/plain": [
              "     PC1        PC2        PC3         PC4          PC5         \n",
              "1947 -3.1031746  0.7519905  0.29187307 -0.164215614  0.006237107\n",
              "1948 -2.6857734  0.8495010  0.63281993  0.122620708  0.042355835\n",
              "1949 -2.0379258  1.5402521 -0.49603161 -0.008466046  0.007863283\n",
              "1950 -1.8680442  1.2766319 -0.12473100 -0.057963320 -0.043499782\n",
              "1951 -1.2385402 -1.2356542 -0.02309218  0.093478781 -0.009116973\n",
              "1952 -0.8650172 -1.9220172 -0.15690972  0.044169280  0.008545465"
            ]
          },
          "metadata": {}
        }
      ]
    },
    {
      "cell_type": "code",
      "source": [
        "# install.packages(\"GGally\")\n",
        "library(GGally)\n",
        "library(dplyr)\n",
        "\n",
        "print(\"Correlation between features\")\n",
        "\n",
        "longley[, -c(6, 7)] %>% ggcorr(label = T)"
      ],
      "metadata": {
        "colab": {
          "base_uri": "https://localhost:8080/",
          "height": 455
        },
        "id": "AqNHjJadFi8m",
        "outputId": "a5846863-80bf-4df7-ad8f-35b13f2d6282"
      },
      "execution_count": null,
      "outputs": [
        {
          "output_type": "stream",
          "name": "stdout",
          "text": [
            "[1] \"Correlation between features\"\n"
          ]
        },
        {
          "output_type": "display_data",
          "data": {
            "text/plain": [
              "plot without title"
            ],
            "image/png": "[encoded data removed]"
          },
          "metadata": {
            "image/png": {
              "width": 420,
              "height": 420
            }
          }
        }
      ]
    },
    {
      "cell_type": "code",
      "source": [
        "plot(dPCA)\n",
        "screeplot(dPCA)"
      ],
      "metadata": {
        "colab": {
          "base_uri": "https://localhost:8080/",
          "height": 437
        },
        "id": "_jaX15J-FjWQ",
        "outputId": "af8f7169-1418-4206-f075-1d85ec90a3cb"
      },
      "execution_count": null,
      "outputs": [
        {
          "output_type": "display_data",
          "data": {
            "text/plain": [
              "Plot with title “dPCA”"
            ],
            "image/png": "[encoded data removed]"
          },
          "metadata": {
            "image/png": {
              "width": 420,
              "height": 420
            }
          }
        }
      ]
    },
    {
      "cell_type": "markdown",
      "source": [
        "> #### Screeplot\n",
        "displays the\n",
        "proportion of the total variation in\n",
        "a dataset that is explained by each\n",
        "of the components in a principle\n",
        "component analysis. Helps to\n",
        "identify how many of the\n",
        "components are needed to\n",
        "summaries the data."
      ],
      "metadata": {
        "id": "HRanp9J3K5dK"
      }
    },
    {
      "cell_type": "code",
      "source": [],
      "metadata": {
        "id": "SVTPI1jdLCef"
      },
      "execution_count": null,
      "outputs": []
    }
  ]
}