{
  "nbformat": 4,
  "nbformat_minor": 0,
  "metadata": {
    "colab": {
      "provenance": [],
      "authorship_tag": "ABX9TyMphvEsquuPt0SCGFu7+rsW",
      "include_colab_link": true
    },
    "kernelspec": {
      "name": "ir",
      "display_name": "R"
    },
    "language_info": {
      "name": "R"
    },
    "gpuClass": "standard"
  },
  "cells": [
    {
      "cell_type": "markdown",
      "metadata": {
        "id": "view-in-github",
        "colab_type": "text"
      },
      "source": [
        "<a href=\"https://colab.research.google.com/github/jainam-shah1/Projects/blob/main/Least_Square.ipynb\" target=\"_parent\"><img src=\"https://colab.research.google.com/assets/colab-badge.svg\" alt=\"Open In Colab\"/></a>"
      ]
    },
    {
      "cell_type": "markdown",
      "source": [
        "#Least Square Programming"
      ],
      "metadata": {
        "id": "uCcGp9QULAYk"
      }
    },
    {
      "cell_type": "markdown",
      "source": [
        "Import the dataset"
      ],
      "metadata": {
        "id": "XQMw0QOdDUYW"
      }
    },
    {
      "cell_type": "code",
      "execution_count": null,
      "metadata": {
        "id": "6KU0KrcNhWSl"
      },
      "outputs": [],
      "source": [
        "mydata <- read.csv(\"/content/rating.csv\")\n"
      ]
    },
    {
      "cell_type": "code",
      "source": [
        "head(mydata)"
      ],
      "metadata": {
        "colab": {
          "base_uri": "https://localhost:8080/",
          "height": 286
        },
        "id": "AtOVtlyJnLrx",
        "outputId": "fb16263f-ff1d-4229-9700-786bed277a29"
      },
      "execution_count": null,
      "outputs": [
        {
          "output_type": "display_data",
          "data": {
            "text/html": [
              "<table class=\"dataframe\">\n",
              "<caption>A data.frame: 6 × 14</caption>\n",
              "<thead>\n",
              "\t<tr><th></th><th scope=col>First</th><th scope=col>Last</th><th scope=col>Team</th><th scope=col>Att</th><th scope=col>Comp</th><th scope=col>Pct.Comp</th><th scope=col>Yds</th><th scope=col>Yds.per.Att</th><th scope=col>TD</th><th scope=col>Pct.TD</th><th scope=col>Long</th><th scope=col>Int</th><th scope=col>Pct.Int</th><th scope=col>Rating.Pts</th></tr>\n",
              "\t<tr><th></th><th scope=col>&lt;chr&gt;</th><th scope=col>&lt;chr&gt;</th><th scope=col>&lt;chr&gt;</th><th scope=col>&lt;int&gt;</th><th scope=col>&lt;int&gt;</th><th scope=col>&lt;dbl&gt;</th><th scope=col>&lt;int&gt;</th><th scope=col>&lt;dbl&gt;</th><th scope=col>&lt;int&gt;</th><th scope=col>&lt;dbl&gt;</th><th scope=col>&lt;int&gt;</th><th scope=col>&lt;int&gt;</th><th scope=col>&lt;dbl&gt;</th><th scope=col>&lt;dbl&gt;</th></tr>\n",
              "</thead>\n",
              "<tbody>\n",
              "\t<tr><th scope=row>1</th><td>Philip</td><td>Rivers    </td><td>SD </td><td>478</td><td>312</td><td>65.3</td><td>4009</td><td>8.39</td><td>34</td><td>7.1</td><td>67</td><td>11</td><td>2.3</td><td>105.5</td></tr>\n",
              "\t<tr><th scope=row>2</th><td>Chad  </td><td>Pennington</td><td>MIA</td><td>476</td><td>321</td><td>67.4</td><td>3653</td><td>7.67</td><td>19</td><td>4.0</td><td>80</td><td> 7</td><td>1.5</td><td> 97.4</td></tr>\n",
              "\t<tr><th scope=row>3</th><td>Kurt  </td><td>Warner    </td><td>ARI</td><td>598</td><td>401</td><td>67.1</td><td>4583</td><td>7.66</td><td>30</td><td>5.0</td><td>79</td><td>14</td><td>2.3</td><td> 96.9</td></tr>\n",
              "\t<tr><th scope=row>4</th><td>Drew  </td><td>Brees     </td><td>NO </td><td>635</td><td>413</td><td>65.0</td><td>5069</td><td>7.98</td><td>34</td><td>5.4</td><td>84</td><td>17</td><td>2.7</td><td> 96.2</td></tr>\n",
              "\t<tr><th scope=row>5</th><td>Peyton</td><td>Manning   </td><td>IND</td><td>555</td><td>371</td><td>66.8</td><td>4002</td><td>7.21</td><td>27</td><td>4.9</td><td>75</td><td>12</td><td>2.2</td><td> 95.0</td></tr>\n",
              "\t<tr><th scope=row>6</th><td>Aaron </td><td>Rodgers   </td><td>GB </td><td>536</td><td>341</td><td>63.6</td><td>4038</td><td>7.53</td><td>28</td><td>5.2</td><td>71</td><td>13</td><td>2.4</td><td> 93.8</td></tr>\n",
              "</tbody>\n",
              "</table>\n"
            ],
            "text/markdown": "\nA data.frame: 6 × 14\n\n| <!--/--> | First &lt;chr&gt; | Last &lt;chr&gt; | Team &lt;chr&gt; | Att &lt;int&gt; | Comp &lt;int&gt; | Pct.Comp &lt;dbl&gt; | Yds &lt;int&gt; | Yds.per.Att &lt;dbl&gt; | TD &lt;int&gt; | Pct.TD &lt;dbl&gt; | Long &lt;int&gt; | Int &lt;int&gt; | Pct.Int &lt;dbl&gt; | Rating.Pts &lt;dbl&gt; |\n|---|---|---|---|---|---|---|---|---|---|---|---|---|---|---|\n| 1 | Philip | Rivers     | SD  | 478 | 312 | 65.3 | 4009 | 8.39 | 34 | 7.1 | 67 | 11 | 2.3 | 105.5 |\n| 2 | Chad   | Pennington | MIA | 476 | 321 | 67.4 | 3653 | 7.67 | 19 | 4.0 | 80 |  7 | 1.5 |  97.4 |\n| 3 | Kurt   | Warner     | ARI | 598 | 401 | 67.1 | 4583 | 7.66 | 30 | 5.0 | 79 | 14 | 2.3 |  96.9 |\n| 4 | Drew   | Brees      | NO  | 635 | 413 | 65.0 | 5069 | 7.98 | 34 | 5.4 | 84 | 17 | 2.7 |  96.2 |\n| 5 | Peyton | Manning    | IND | 555 | 371 | 66.8 | 4002 | 7.21 | 27 | 4.9 | 75 | 12 | 2.2 |  95.0 |\n| 6 | Aaron  | Rodgers    | GB  | 536 | 341 | 63.6 | 4038 | 7.53 | 28 | 5.2 | 71 | 13 | 2.4 |  93.8 |\n\n",
            "text/latex": "A data.frame: 6 × 14\n\\begin{tabular}{r|llllllllllllll}\n  & First & Last & Team & Att & Comp & Pct.Comp & Yds & Yds.per.Att & TD & Pct.TD & Long & Int & Pct.Int & Rating.Pts\\\\\n  & <chr> & <chr> & <chr> & <int> & <int> & <dbl> & <int> & <dbl> & <int> & <dbl> & <int> & <int> & <dbl> & <dbl>\\\\\n\\hline\n\t1 & Philip & Rivers     & SD  & 478 & 312 & 65.3 & 4009 & 8.39 & 34 & 7.1 & 67 & 11 & 2.3 & 105.5\\\\\n\t2 & Chad   & Pennington & MIA & 476 & 321 & 67.4 & 3653 & 7.67 & 19 & 4.0 & 80 &  7 & 1.5 &  97.4\\\\\n\t3 & Kurt   & Warner     & ARI & 598 & 401 & 67.1 & 4583 & 7.66 & 30 & 5.0 & 79 & 14 & 2.3 &  96.9\\\\\n\t4 & Drew   & Brees      & NO  & 635 & 413 & 65.0 & 5069 & 7.98 & 34 & 5.4 & 84 & 17 & 2.7 &  96.2\\\\\n\t5 & Peyton & Manning    & IND & 555 & 371 & 66.8 & 4002 & 7.21 & 27 & 4.9 & 75 & 12 & 2.2 &  95.0\\\\\n\t6 & Aaron  & Rodgers    & GB  & 536 & 341 & 63.6 & 4038 & 7.53 & 28 & 5.2 & 71 & 13 & 2.4 &  93.8\\\\\n\\end{tabular}\n",
            "text/plain": [
              "  First  Last       Team Att Comp Pct.Comp Yds  Yds.per.Att TD Pct.TD Long Int\n",
              "1 Philip Rivers     SD   478 312  65.3     4009 8.39        34 7.1    67   11 \n",
              "2 Chad   Pennington MIA  476 321  67.4     3653 7.67        19 4.0    80    7 \n",
              "3 Kurt   Warner     ARI  598 401  67.1     4583 7.66        30 5.0    79   14 \n",
              "4 Drew   Brees      NO   635 413  65.0     5069 7.98        34 5.4    84   17 \n",
              "5 Peyton Manning    IND  555 371  66.8     4002 7.21        27 4.9    75   12 \n",
              "6 Aaron  Rodgers    GB   536 341  63.6     4038 7.53        28 5.2    71   13 \n",
              "  Pct.Int Rating.Pts\n",
              "1 2.3     105.5     \n",
              "2 1.5      97.4     \n",
              "3 2.3      96.9     \n",
              "4 2.7      96.2     \n",
              "5 2.2      95.0     \n",
              "6 2.4      93.8     "
            ]
          },
          "metadata": {}
        }
      ]
    },
    {
      "cell_type": "markdown",
      "source": [
        "#Part a) \n",
        "<br>Create a Least Square model to relate the dependent variable quarterback rating to the percentage of completions (Pct Comp).</br>"
      ],
      "metadata": {
        "id": "q7Dyw4Vb-bgC"
      }
    },
    {
      "cell_type": "code",
      "source": [
        "Comp <- c(mydata[\"Comp\"])\n",
        "Pct.Comp <-c (mydata[\"Pct.Comp\"])\n",
        "Rating.Pts <-c (mydata[\"Rating.Pts\"])\n"
      ],
      "metadata": {
        "id": "DqlgZgA1mPEg"
      },
      "execution_count": null,
      "outputs": []
    },
    {
      "cell_type": "code",
      "source": [
        "install.packages(\"pracma\")"
      ],
      "metadata": {
        "colab": {
          "base_uri": "https://localhost:8080/"
        },
        "id": "aYzIW8PgmPBH",
        "outputId": "8780c59f-4421-410f-81da-9cea0d3fb993"
      },
      "execution_count": null,
      "outputs": [
        {
          "output_type": "stream",
          "name": "stderr",
          "text": [
            "Installing package into ‘/usr/local/lib/R/site-library’\n",
            "(as ‘lib’ is unspecified)\n",
            "\n"
          ]
        }
      ]
    },
    {
      "cell_type": "code",
      "source": [
        "library (pracma)"
      ],
      "metadata": {
        "id": "cVRL0gQZmO_R"
      },
      "execution_count": null,
      "outputs": []
    },
    {
      "cell_type": "code",
      "source": [
        "typeof(Rating.Pts)\n",
        "typeof(Pct.Comp)"
      ],
      "metadata": {
        "colab": {
          "base_uri": "https://localhost:8080/",
          "height": 52
        },
        "id": "G-mdD1admO9v",
        "outputId": "f1a9cf53-3970-40ad-d7a3-26f3a9e483a9"
      },
      "execution_count": null,
      "outputs": [
        {
          "output_type": "display_data",
          "data": {
            "text/html": [
              "'list'"
            ],
            "text/markdown": "'list'",
            "text/latex": "'list'",
            "text/plain": [
              "[1] \"list\""
            ]
          },
          "metadata": {}
        },
        {
          "output_type": "display_data",
          "data": {
            "text/html": [
              "'list'"
            ],
            "text/markdown": "'list'",
            "text/latex": "'list'",
            "text/plain": [
              "[1] \"list\""
            ]
          },
          "metadata": {}
        }
      ]
    },
    {
      "cell_type": "code",
      "source": [
        "Rating.Pts <- as.numeric(unlist(Rating.Pts))\n",
        "Pct.Comp <- as.numeric(unlist(Pct.Comp))"
      ],
      "metadata": {
        "id": "kRzKHHZ4mO7q"
      },
      "execution_count": null,
      "outputs": []
    },
    {
      "cell_type": "code",
      "source": [
        "typeof(Rating.Pts)\n",
        "typeof(Pct.Comp)"
      ],
      "metadata": {
        "colab": {
          "base_uri": "https://localhost:8080/",
          "height": 52
        },
        "id": "F75R8SnAmO38",
        "outputId": "fdcec970-4858-4cba-8ab2-903719eb9dca"
      },
      "execution_count": null,
      "outputs": [
        {
          "output_type": "display_data",
          "data": {
            "text/html": [
              "'double'"
            ],
            "text/markdown": "'double'",
            "text/latex": "'double'",
            "text/plain": [
              "[1] \"double\""
            ]
          },
          "metadata": {}
        },
        {
          "output_type": "display_data",
          "data": {
            "text/html": [
              "'double'"
            ],
            "text/markdown": "'double'",
            "text/latex": "'double'",
            "text/plain": [
              "[1] \"double\""
            ]
          },
          "metadata": {}
        }
      ]
    },
    {
      "cell_type": "code",
      "source": [
        "library(MASS)"
      ],
      "metadata": {
        "id": "iA2209F8mO0V"
      },
      "execution_count": null,
      "outputs": []
    },
    {
      "cell_type": "markdown",
      "source": [
        "##Method 1 (Without library)\n"
      ],
      "metadata": {
        "id": "mfHJ2Qpy9NCU"
      }
    },
    {
      "cell_type": "markdown",
      "source": [
        "$ X = (A^T*A)^-1*(A^T*b) $\n"
      ],
      "metadata": {
        "id": "f-3uCPrH1huv"
      }
    },
    {
      "cell_type": "code",
      "source": [
        "A_transpose <- t(Pct.Comp)\n",
        "A_transpose"
      ],
      "metadata": {
        "colab": {
          "base_uri": "https://localhost:8080/",
          "height": 66
        },
        "id": "5Ut2s0vWmOx3",
        "outputId": "4a8ddcdc-c072-4ff2-cf07-7306530d47c3"
      },
      "execution_count": null,
      "outputs": [
        {
          "output_type": "display_data",
          "data": {
            "text/html": [
              "<table class=\"dataframe\">\n",
              "<caption>A matrix: 1 × 32 of type dbl</caption>\n",
              "<tbody>\n",
              "\t<tr><td>65.3</td><td>67.4</td><td>67.1</td><td>65</td><td>66.8</td><td>63.6</td><td>66.1</td><td>61.3</td><td>64.9</td><td>63.4</td><td>⋯</td><td>58.3</td><td>59.9</td><td>58.5</td><td>53.8</td><td>54.8</td><td>59.1</td><td>56.1</td><td>57</td><td>59.4</td><td>50.2</td></tr>\n",
              "</tbody>\n",
              "</table>\n"
            ],
            "text/markdown": "\nA matrix: 1 × 32 of type dbl\n\n| 65.3 | 67.4 | 67.1 | 65 | 66.8 | 63.6 | 66.1 | 61.3 | 64.9 | 63.4 | ⋯ | 58.3 | 59.9 | 58.5 | 53.8 | 54.8 | 59.1 | 56.1 | 57 | 59.4 | 50.2 |\n\n",
            "text/latex": "A matrix: 1 × 32 of type dbl\n\\begin{tabular}{lllllllllllllllllllll}\n\t 65.3 & 67.4 & 67.1 & 65 & 66.8 & 63.6 & 66.1 & 61.3 & 64.9 & 63.4 & ⋯ & 58.3 & 59.9 & 58.5 & 53.8 & 54.8 & 59.1 & 56.1 & 57 & 59.4 & 50.2\\\\\n\\end{tabular}\n",
            "text/plain": [
              "     [,1] [,2] [,3] [,4] [,5] [,6] [,7] [,8] [,9] [,10] [,11] [,12] [,13] [,14]\n",
              "[1,] 65.3 67.4 67.1 65   66.8 63.6 66.1 61.3 64.9 63.4  ⋯     58.3  59.9  58.5 \n",
              "     [,15] [,16] [,17] [,18] [,19] [,20] [,21]\n",
              "[1,] 53.8  54.8  59.1  56.1  57    59.4  50.2 "
            ]
          },
          "metadata": {}
        }
      ]
    },
    {
      "cell_type": "code",
      "source": [
        "inverse <- inv(t(Pct.Comp) %*% Pct.Comp)\n",
        "inverse "
      ],
      "metadata": {
        "colab": {
          "base_uri": "https://localhost:8080/",
          "height": 83
        },
        "id": "gBwdfEeImObP",
        "outputId": "8a5f9b04-e8e0-4d74-c7e0-1ee50be31e43"
      },
      "execution_count": null,
      "outputs": [
        {
          "output_type": "display_data",
          "data": {
            "text/html": [
              "<table class=\"dataframe\">\n",
              "<caption>A matrix: 1 × 1 of type dbl</caption>\n",
              "<tbody>\n",
              "\t<tr><td>8.304226e-06</td></tr>\n",
              "</tbody>\n",
              "</table>\n"
            ],
            "text/markdown": "\nA matrix: 1 × 1 of type dbl\n\n| 8.304226e-06 |\n\n",
            "text/latex": "A matrix: 1 × 1 of type dbl\n\\begin{tabular}{l}\n\t 8.304226e-06\\\\\n\\end{tabular}\n",
            "text/plain": [
              "     [,1]        \n",
              "[1,] 8.304226e-06"
            ]
          },
          "metadata": {}
        }
      ]
    },
    {
      "cell_type": "code",
      "source": [
        "X <- inverse %*% Pct.Comp %*% Rating.Pts\n",
        "X"
      ],
      "metadata": {
        "id": "87ojJOIgmNkC",
        "colab": {
          "base_uri": "https://localhost:8080/",
          "height": 100
        },
        "outputId": "6b2bf064-5933-4de9-9f3a-99b2aba58511"
      },
      "execution_count": null,
      "outputs": [
        {
          "output_type": "display_data",
          "data": {
            "text/html": [
              "<table class=\"dataframe\">\n",
              "<caption>A matrix: 1 × 1 of type dbl</caption>\n",
              "<tbody>\n",
              "\t<tr><td>1.387248</td></tr>\n",
              "</tbody>\n",
              "</table>\n"
            ],
            "text/markdown": "\nA matrix: 1 × 1 of type dbl\n\n| 1.387248 |\n\n",
            "text/latex": "A matrix: 1 × 1 of type dbl\n\\begin{tabular}{l}\n\t 1.387248\\\\\n\\end{tabular}\n",
            "text/plain": [
              "     [,1]    \n",
              "[1,] 1.387248"
            ]
          },
          "metadata": {}
        }
      ]
    },
    {
      "cell_type": "markdown",
      "source": [
        "##Method 2 (With library)"
      ],
      "metadata": {
        "id": "ZmFPXFob9T2U"
      }
    },
    {
      "cell_type": "code",
      "source": [
        "library(MASS)\n",
        "x = ginv(Pct.Comp)%*%Rating.Pts\n",
        "print(x)"
      ],
      "metadata": {
        "id": "UM9LQDffmNgo",
        "colab": {
          "base_uri": "https://localhost:8080/"
        },
        "outputId": "4e513179-12b6-4f6f-bad6-40e7132ebc53"
      },
      "execution_count": null,
      "outputs": [
        {
          "output_type": "stream",
          "name": "stdout",
          "text": [
            "         [,1]\n",
            "[1,] 1.387248\n"
          ]
        }
      ]
    },
    {
      "cell_type": "markdown",
      "source": [
        "#Part b)\n",
        "<br>Create a Least Square model to relate the dependent variable quarterback rating to the percentage of Completions (Pct Comp) and interceptions. (Pct Int)</br>"
      ],
      "metadata": {
        "id": "nK5D21eR-fvF"
      }
    },
    {
      "cell_type": "code",
      "source": [
        "Pct.Int <-mydata[\"Pct.Int\"]\n",
        "Pct.Int <- as.numeric(unlist(Pct.Int))"
      ],
      "metadata": {
        "id": "Kq_zPGa9sArr"
      },
      "execution_count": null,
      "outputs": []
    },
    {
      "cell_type": "code",
      "source": [
        "typeof(Pct.Int)"
      ],
      "metadata": {
        "colab": {
          "base_uri": "https://localhost:8080/",
          "height": 34
        },
        "id": "c7LH_n3r-_6h",
        "outputId": "9be5ca02-d933-47ff-bb58-565bb9794328"
      },
      "execution_count": null,
      "outputs": [
        {
          "output_type": "display_data",
          "data": {
            "text/html": [
              "'double'"
            ],
            "text/markdown": "'double'",
            "text/latex": "'double'",
            "text/plain": [
              "[1] \"double\""
            ]
          },
          "metadata": {}
        }
      ]
    },
    {
      "cell_type": "code",
      "source": [
        "combined_matrix <- matrix(c(Pct.Int ,Pct.Comp), ncol=2)\n",
        "combined_matrix"
      ],
      "metadata": {
        "colab": {
          "base_uri": "https://localhost:8080/",
          "height": 1000
        },
        "id": "781LhgDl_Gdc",
        "outputId": "a63596cb-f80e-4257-8b70-7aad97af3782"
      },
      "execution_count": null,
      "outputs": [
        {
          "output_type": "display_data",
          "data": {
            "text/html": [
              "<table class=\"dataframe\">\n",
              "<caption>A matrix: 32 × 2 of type dbl</caption>\n",
              "<tbody>\n",
              "\t<tr><td>2.3</td><td>65.3</td></tr>\n",
              "\t<tr><td>1.5</td><td>67.4</td></tr>\n",
              "\t<tr><td>2.3</td><td>67.1</td></tr>\n",
              "\t<tr><td>2.7</td><td>65.0</td></tr>\n",
              "\t<tr><td>2.2</td><td>66.8</td></tr>\n",
              "\t<tr><td>2.4</td><td>63.6</td></tr>\n",
              "\t<tr><td>2.6</td><td>66.1</td></tr>\n",
              "\t<tr><td>3.1</td><td>61.3</td></tr>\n",
              "\t<tr><td>1.6</td><td>64.9</td></tr>\n",
              "\t<tr><td>2.1</td><td>63.4</td></tr>\n",
              "\t<tr><td>2.5</td><td>61.1</td></tr>\n",
              "\t<tr><td>2.8</td><td>62.8</td></tr>\n",
              "\t<tr><td>1.2</td><td>58.3</td></tr>\n",
              "\t<tr><td>2.1</td><td>60.3</td></tr>\n",
              "\t<tr><td>1.9</td><td>60.4</td></tr>\n",
              "\t<tr><td>2.9</td><td>62.3</td></tr>\n",
              "\t<tr><td>2.7</td><td>65.5</td></tr>\n",
              "\t<tr><td>2.9</td><td>59.4</td></tr>\n",
              "\t<tr><td>1.2</td><td>62.3</td></tr>\n",
              "\t<tr><td>2.4</td><td>62.6</td></tr>\n",
              "\t<tr><td>4.2</td><td>65.7</td></tr>\n",
              "\t<tr><td>2.8</td><td>60.0</td></tr>\n",
              "\t<tr><td>1.7</td><td>58.3</td></tr>\n",
              "\t<tr><td>3.2</td><td>59.9</td></tr>\n",
              "\t<tr><td>2.6</td><td>58.5</td></tr>\n",
              "\t<tr><td>2.2</td><td>53.8</td></tr>\n",
              "\t<tr><td>2.9</td><td>54.8</td></tr>\n",
              "\t<tr><td>5.0</td><td>59.1</td></tr>\n",
              "\t<tr><td>3.1</td><td>56.1</td></tr>\n",
              "\t<tr><td>3.0</td><td>57.0</td></tr>\n",
              "\t<tr><td>2.4</td><td>59.4</td></tr>\n",
              "\t<tr><td>2.8</td><td>50.2</td></tr>\n",
              "</tbody>\n",
              "</table>\n"
            ],
            "text/markdown": "\nA matrix: 32 × 2 of type dbl\n\n| 2.3 | 65.3 |\n| 1.5 | 67.4 |\n| 2.3 | 67.1 |\n| 2.7 | 65.0 |\n| 2.2 | 66.8 |\n| 2.4 | 63.6 |\n| 2.6 | 66.1 |\n| 3.1 | 61.3 |\n| 1.6 | 64.9 |\n| 2.1 | 63.4 |\n| 2.5 | 61.1 |\n| 2.8 | 62.8 |\n| 1.2 | 58.3 |\n| 2.1 | 60.3 |\n| 1.9 | 60.4 |\n| 2.9 | 62.3 |\n| 2.7 | 65.5 |\n| 2.9 | 59.4 |\n| 1.2 | 62.3 |\n| 2.4 | 62.6 |\n| 4.2 | 65.7 |\n| 2.8 | 60.0 |\n| 1.7 | 58.3 |\n| 3.2 | 59.9 |\n| 2.6 | 58.5 |\n| 2.2 | 53.8 |\n| 2.9 | 54.8 |\n| 5.0 | 59.1 |\n| 3.1 | 56.1 |\n| 3.0 | 57.0 |\n| 2.4 | 59.4 |\n| 2.8 | 50.2 |\n\n",
            "text/latex": "A matrix: 32 × 2 of type dbl\n\\begin{tabular}{ll}\n\t 2.3 & 65.3\\\\\n\t 1.5 & 67.4\\\\\n\t 2.3 & 67.1\\\\\n\t 2.7 & 65.0\\\\\n\t 2.2 & 66.8\\\\\n\t 2.4 & 63.6\\\\\n\t 2.6 & 66.1\\\\\n\t 3.1 & 61.3\\\\\n\t 1.6 & 64.9\\\\\n\t 2.1 & 63.4\\\\\n\t 2.5 & 61.1\\\\\n\t 2.8 & 62.8\\\\\n\t 1.2 & 58.3\\\\\n\t 2.1 & 60.3\\\\\n\t 1.9 & 60.4\\\\\n\t 2.9 & 62.3\\\\\n\t 2.7 & 65.5\\\\\n\t 2.9 & 59.4\\\\\n\t 1.2 & 62.3\\\\\n\t 2.4 & 62.6\\\\\n\t 4.2 & 65.7\\\\\n\t 2.8 & 60.0\\\\\n\t 1.7 & 58.3\\\\\n\t 3.2 & 59.9\\\\\n\t 2.6 & 58.5\\\\\n\t 2.2 & 53.8\\\\\n\t 2.9 & 54.8\\\\\n\t 5.0 & 59.1\\\\\n\t 3.1 & 56.1\\\\\n\t 3.0 & 57.0\\\\\n\t 2.4 & 59.4\\\\\n\t 2.8 & 50.2\\\\\n\\end{tabular}\n",
            "text/plain": [
              "      [,1] [,2]\n",
              " [1,] 2.3  65.3\n",
              " [2,] 1.5  67.4\n",
              " [3,] 2.3  67.1\n",
              " [4,] 2.7  65.0\n",
              " [5,] 2.2  66.8\n",
              " [6,] 2.4  63.6\n",
              " [7,] 2.6  66.1\n",
              " [8,] 3.1  61.3\n",
              " [9,] 1.6  64.9\n",
              "[10,] 2.1  63.4\n",
              "[11,] 2.5  61.1\n",
              "[12,] 2.8  62.8\n",
              "[13,] 1.2  58.3\n",
              "[14,] 2.1  60.3\n",
              "[15,] 1.9  60.4\n",
              "[16,] 2.9  62.3\n",
              "[17,] 2.7  65.5\n",
              "[18,] 2.9  59.4\n",
              "[19,] 1.2  62.3\n",
              "[20,] 2.4  62.6\n",
              "[21,] 4.2  65.7\n",
              "[22,] 2.8  60.0\n",
              "[23,] 1.7  58.3\n",
              "[24,] 3.2  59.9\n",
              "[25,] 2.6  58.5\n",
              "[26,] 2.2  53.8\n",
              "[27,] 2.9  54.8\n",
              "[28,] 5.0  59.1\n",
              "[29,] 3.1  56.1\n",
              "[30,] 3.0  57.0\n",
              "[31,] 2.4  59.4\n",
              "[32,] 2.8  50.2"
            ]
          },
          "metadata": {}
        }
      ]
    },
    {
      "cell_type": "code",
      "source": [
        "library(MASS)\n",
        "X2 = ginv(combined_matrix) %*% Rating.Pts\n",
        "print(X2)"
      ],
      "metadata": {
        "colab": {
          "base_uri": "https://localhost:8080/"
        },
        "id": "eb4pKTdA_N6U",
        "outputId": "5e28de65-df31-41f3-dc38-0d1abc1cd6c3"
      },
      "execution_count": null,
      "outputs": [
        {
          "output_type": "stream",
          "name": "stdout",
          "text": [
            "          [,1]\n",
            "[1,] -3.341873\n",
            "[2,]  1.524950\n"
          ]
        }
      ]
    },
    {
      "cell_type": "markdown",
      "source": [
        "#Part c)\n",
        "<br>Determine the least square error (square root of sum of square errors) for models in part a and b. Does using an extra variable, namely percentage of interceptions, improve the accuracy of the model for this data set? Comment.</br>"
      ],
      "metadata": {
        "id": "AJbGGMHmAnFp"
      }
    },
    {
      "cell_type": "code",
      "source": [
        "err1 <- norm(Pct.Comp %*% x - Rating.Pts, '2')\n",
        "err1"
      ],
      "metadata": {
        "colab": {
          "base_uri": "https://localhost:8080/",
          "height": 34
        },
        "id": "2lZOq31q_YUG",
        "outputId": "a2bfef65-7118-471f-dea8-a1f8fde0d307"
      },
      "execution_count": null,
      "outputs": [
        {
          "output_type": "display_data",
          "data": {
            "text/html": [
              "30.7153797429948"
            ],
            "text/markdown": "30.7153797429948",
            "text/latex": "30.7153797429948",
            "text/plain": [
              "[1] 30.71538"
            ]
          },
          "metadata": {}
        }
      ]
    },
    {
      "cell_type": "code",
      "source": [
        "err2 <- norm(combined_matrix %*% X2 - Rating.Pts, '2')\n",
        "err2"
      ],
      "metadata": {
        "colab": {
          "base_uri": "https://localhost:8080/",
          "height": 34
        },
        "id": "UEhQQWSeB7M2",
        "outputId": "a757990d-9280-446d-8e97-08a03c459ad4"
      },
      "execution_count": null,
      "outputs": [
        {
          "output_type": "display_data",
          "data": {
            "text/html": [
              "26.7733125381187"
            ],
            "text/markdown": "26.7733125381187",
            "text/latex": "26.7733125381187",
            "text/plain": [
              "[1] 26.77331"
            ]
          },
          "metadata": {}
        }
      ]
    },
    {
      "cell_type": "markdown",
      "source": [
        "*Yes, it does improve the accuracy of the model. Without any suprise, having more independent variables and samples will make our result more accurate.*\n"
      ],
      "metadata": {
        "id": "2OY7le1MCboM"
      }
    },
    {
      "cell_type": "markdown",
      "source": [
        "#Part d)\n",
        "<br>Use your models in part a and b to predict the rating for a quarterback with percentage of completions of 60%, and percentage of interceptions of 3%.</br>"
      ],
      "metadata": {
        "id": "n0s_vPOAAzYn"
      }
    },
    {
      "cell_type": "code",
      "source": [
        "x_pre <- 60 * 1.387248\n",
        "x_pre"
      ],
      "metadata": {
        "colab": {
          "base_uri": "https://localhost:8080/",
          "height": 34
        },
        "id": "tvKa-3EBAkAP",
        "outputId": "a942f8f0-eef0-4bc0-cd6c-888b092ce672"
      },
      "execution_count": null,
      "outputs": [
        {
          "output_type": "display_data",
          "data": {
            "text/html": [
              "83.23488"
            ],
            "text/markdown": "83.23488",
            "text/latex": "83.23488",
            "text/plain": [
              "[1] 83.23488"
            ]
          },
          "metadata": {}
        }
      ]
    },
    {
      "cell_type": "code",
      "source": [
        "X2_pre <- 1.524950*60 + -3.341873 * 3\n",
        "X2_pre"
      ],
      "metadata": {
        "colab": {
          "base_uri": "https://localhost:8080/",
          "height": 34
        },
        "id": "CcVU3FhsCsYx",
        "outputId": "b70aae1a-3c51-4813-94de-c7210bbf7f78"
      },
      "execution_count": null,
      "outputs": [
        {
          "output_type": "display_data",
          "data": {
            "text/html": [
              "81.471381"
            ],
            "text/markdown": "81.471381",
            "text/latex": "81.471381",
            "text/plain": [
              "[1] 81.47138"
            ]
          },
          "metadata": {}
        }
      ]
    }
  ]
}